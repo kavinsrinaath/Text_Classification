{
 "cells": [
  {
   "cell_type": "markdown",
   "metadata": {},
   "source": [
    "# Supervised text analysis using Doc2Vec vectors on twitter data"
   ]
  },
  {
   "cell_type": "markdown",
   "metadata": {},
   "source": [
    "We import necessary libs\n",
    "\n",
    "*Codes related to data cleaning have been places in a seperate functions.py file*"
   ]
  },
  {
   "cell_type": "code",
   "execution_count": 23,
   "metadata": {},
   "outputs": [],
   "source": [
    "import pandas as pd\n",
    "import nltk\n",
    "from tqdm import tqdm\n",
    "from gensim.models.doc2vec import TaggedDocument,Doc2Vec\n",
    "from functions import data_cleaner_tweets\n",
    "from functions import data_cleaner\n",
    "from functions import tokenize_text\n",
    "from sklearn.model_selection import train_test_split,GridSearchCV\n",
    "from sklearn import utils\n",
    "from sklearn.linear_model import LogisticRegression\n",
    "from sklearn.metrics import accuracy_score,classification_report,plot_roc_curve\n",
    "import matplotlib.pyplot as plt"
   ]
  },
  {
   "cell_type": "markdown",
   "metadata": {},
   "source": [
    "We use the famous sentiment140 dataset with over 1.6 million tweets.\n",
    "\n",
    "We pick up the sentiment column and the tweet column. (0-Negative,1-Positive).\n",
    "\n",
    "dataset link : https://www.kaggle.com/kazanova/sentiment140"
   ]
  },
  {
   "cell_type": "code",
   "execution_count": 27,
   "metadata": {},
   "outputs": [
    {
     "data": {
      "text/html": [
       "<div>\n",
       "<style scoped>\n",
       "    .dataframe tbody tr th:only-of-type {\n",
       "        vertical-align: middle;\n",
       "    }\n",
       "\n",
       "    .dataframe tbody tr th {\n",
       "        vertical-align: top;\n",
       "    }\n",
       "\n",
       "    .dataframe thead th {\n",
       "        text-align: right;\n",
       "    }\n",
       "</style>\n",
       "<table border=\"1\" class=\"dataframe\">\n",
       "  <thead>\n",
       "    <tr style=\"text-align: right;\">\n",
       "      <th></th>\n",
       "      <th>sentiment</th>\n",
       "      <th>tweet</th>\n",
       "    </tr>\n",
       "  </thead>\n",
       "  <tbody>\n",
       "    <tr>\n",
       "      <th>0</th>\n",
       "      <td>0</td>\n",
       "      <td>@switchfoot http://twitpic.com/2y1zl - Awww, t...</td>\n",
       "    </tr>\n",
       "    <tr>\n",
       "      <th>1</th>\n",
       "      <td>0</td>\n",
       "      <td>is upset that he can't update his Facebook by ...</td>\n",
       "    </tr>\n",
       "    <tr>\n",
       "      <th>2</th>\n",
       "      <td>0</td>\n",
       "      <td>@Kenichan I dived many times for the ball. Man...</td>\n",
       "    </tr>\n",
       "    <tr>\n",
       "      <th>3</th>\n",
       "      <td>0</td>\n",
       "      <td>my whole body feels itchy and like its on fire</td>\n",
       "    </tr>\n",
       "    <tr>\n",
       "      <th>4</th>\n",
       "      <td>0</td>\n",
       "      <td>@nationwideclass no, it's not behaving at all....</td>\n",
       "    </tr>\n",
       "  </tbody>\n",
       "</table>\n",
       "</div>"
      ],
      "text/plain": [
       "   sentiment                                              tweet\n",
       "0          0  @switchfoot http://twitpic.com/2y1zl - Awww, t...\n",
       "1          0  is upset that he can't update his Facebook by ...\n",
       "2          0  @Kenichan I dived many times for the ball. Man...\n",
       "3          0    my whole body feels itchy and like its on fire \n",
       "4          0  @nationwideclass no, it's not behaving at all...."
      ]
     },
     "execution_count": 27,
     "metadata": {},
     "output_type": "execute_result"
    }
   ],
   "source": [
    "df = pd.read_csv(r'../Datasets/labeled_tweets.csv',engine='python',usecols=[0,5],names=['sentiment','tweet'])\n",
    "df.head()"
   ]
  },
  {
   "cell_type": "markdown",
   "metadata": {},
   "source": [
    "We clean the data using the functions which is present in functions.py file\n",
    "\n",
    "1.Using demoji to remove emojis that might be along with the texts.\n",
    "\n",
    "2.Using re library to handle special chars and handle names,hyperlinks."
   ]
  },
  {
   "cell_type": "code",
   "execution_count": null,
   "metadata": {},
   "outputs": [],
   "source": [
    "df.tweet = data_cleaner(df.tweet)\n",
    "df.tweet = data_cleaner_tweets(df.tweet)"
   ]
  },
  {
   "cell_type": "markdown",
   "metadata": {},
   "source": [
    "Next up we use Gensim's TaggedDocument setup to transfom the data set that can be fed into Doc2Vec model.\n",
    "\n",
    "The Tagged document has 2 parts:\n",
    "1. words : this is the tokenised list of words i.e our tweets\n",
    "2. tags: this will be the target varialbles. In this cases the sentiments.\n",
    "\n",
    "For more about Taggedocument and Doc2Vec model, checkout link below:\n",
    "\n",
    "https://radimrehurek.com/gensim/models/doc2vec.html\n",
    "\n",
    "We use nltk to tokenize the words\n",
    "\n",
    "Example of a TaggedDocument : TaggedDocument(words=['spring', 'break', 'in', 'plain', 'city', 'it', 'snowing'], tags=[0])"
   ]
  },
  {
   "cell_type": "code",
   "execution_count": 4,
   "metadata": {},
   "outputs": [],
   "source": [
    "dataset = []\n",
    "def f_docbuilder(x,y):\n",
    "    for i in range(len(x)):\n",
    "        dataset.append(TaggedDocument(words=tokenize_text(x[i]), tags=[y[i]] ))"
   ]
  },
  {
   "cell_type": "markdown",
   "metadata": {},
   "source": [
    "Using the abouve function we create the dataset in the necessary format, initialize the Doc2Vec model and split the data."
   ]
  },
  {
   "cell_type": "code",
   "execution_count": 6,
   "metadata": {},
   "outputs": [
    {
     "name": "stderr",
     "output_type": "stream",
     "text": [
      "100%|███████████████████████████████████████████████████████████████████| 1280000/1280000 [00:00<00:00, 2506689.20it/s]\n"
     ]
    }
   ],
   "source": [
    "f_docbuilder(df.tweet,df.sentiment)\n",
    "doc_model = Doc2Vec(vector_size=50, min_count=2, epochs=20)\n",
    "train_docs,test_docs = train_test_split(dataset,test_size=0.2)\n",
    "doc_model.build_vocab([x for x in tqdm(train_docs)])"
   ]
  },
  {
   "cell_type": "markdown",
   "metadata": {},
   "source": [
    "The data is then converted to vectors i.e numerical values which can be used in a classifer"
   ]
  },
  {
   "cell_type": "code",
   "execution_count": 8,
   "metadata": {},
   "outputs": [],
   "source": [
    "train_vecs = [doc_model.infer_vector(train_docs[i].words) for i in range(len(train_docs))]\n",
    "train_targets = [train_docs[i].tags[0] for i in range(len(train_docs))]\n",
    "test_vecs = [doc_model.infer_vector(test_docs[i].words) for i in range(len(test_docs))]\n",
    "test_targets = [test_docs[i].tags[0] for i in range(len(test_docs))]"
   ]
  },
  {
   "cell_type": "markdown",
   "metadata": {},
   "source": [
    "We use gridsearchcv to find parameters best suited for the dataset"
   ]
  },
  {
   "cell_type": "code",
   "execution_count": 16,
   "metadata": {},
   "outputs": [],
   "source": [
    "log_params = [{'penalty':['l1','l2'],'fit_intercept':[True,False]}]\n",
    "grid_search = GridSearchCV(estimator=LogisticRegression(),param_grid=log_params,scoring=['accuracy','roc_auc'],n_jobs=-1,return_train_score=True,refit='roc_auc')\n",
    "#taking a subset of the training data\n",
    "s_train_vecs = train_vecs[0:50000]\n",
    "s_train_targets = train_targets[0:50000]\n",
    "grid_search_val = grid_search.fit(s_train_vecs,s_train_targets)"
   ]
  },
  {
   "cell_type": "code",
   "execution_count": 18,
   "metadata": {},
   "outputs": [
    {
     "data": {
      "text/plain": [
       "{'fit_intercept': True, 'penalty': 'l2'}"
      ]
     },
     "execution_count": 18,
     "metadata": {},
     "output_type": "execute_result"
    }
   ],
   "source": [
    "grid_search_val.best_params_"
   ]
  },
  {
   "cell_type": "markdown",
   "metadata": {},
   "source": [
    "We use the params in the LogisticModel, and then train and predict"
   ]
  },
  {
   "cell_type": "code",
   "execution_count": 29,
   "metadata": {},
   "outputs": [
    {
     "name": "stdout",
     "output_type": "stream",
     "text": [
      "LogReg model train accuracy is : 0.741465625\n",
      "LogReg model test accuracy is : 0.696284375\n",
      "*******************Classification Report******************\n",
      "              precision    recall  f1-score   support\n",
      "\n",
      "    Negative       0.71      0.67      0.69    160036\n",
      "    Positive       0.69      0.72      0.70    159964\n",
      "\n",
      "    accuracy                           0.70    320000\n",
      "   macro avg       0.70      0.70      0.70    320000\n",
      "weighted avg       0.70      0.70      0.70    320000\n",
      "\n"
     ]
    }
   ],
   "source": [
    "logreg_model = LogisticRegression(penalty='l2',fit_intercept=True)\n",
    "logreg_model.fit(X=train_vecs,y=train_targets)\n",
    "y_pred_logmodel = logreg_model.predict(test_vecs)\n",
    "test_accuracy = accuracy_score(test_targets,y_pred_logmodel)\n",
    "train_accuracy = accuracy_score(train_targets,logreg_model.predict(train_vecs))\n",
    "c_report = classification_report(test_targets,y_pred_logmodel,target_names=['Negative','Positive'])\n",
    "print(f'LogReg model train accuracy is : {train_accuracy}')\n",
    "print(f'LogReg model test accuracy is : {test_accuracy}')\n",
    "print(f'*******************Classification Report******************')\n",
    "print(c_report)"
   ]
  },
  {
   "cell_type": "code",
   "execution_count": 24,
   "metadata": {},
   "outputs": [
    {
     "data": {
      "image/png": "[encoded data removed]",
      "text/plain": [
       "<Figure size 432x288 with 1 Axes>"
      ]
     },
     "metadata": {
      "needs_background": "light"
     },
     "output_type": "display_data"
    }
   ],
   "source": [
    "plot_roc_curve(logreg_model,X=test_vecs,y=test_targets)\n",
    "plt.show()"
   ]
  },
  {
   "cell_type": "markdown",
   "metadata": {},
   "source": [
    "We could see the metrics above.The model and approach gives us a starting block upon wich furthes improvements can be added.\n",
    "\n",
    "1. We could still potentially increase the perforamce if we are to implement some Deep Learning model.\n",
    "\n",
    "2. Over the course using lemmataization decreased the performance and hence was not performed here."
   ]
  },
  {
   "cell_type": "code",
   "execution_count": null,
   "metadata": {},
   "outputs": [],
   "source": []
  }
 ],
 "metadata": {
  "kernelspec": {
   "display_name": "Python 3",
   "language": "python",
   "name": "python3"
  },
  "language_info": {
   "codemirror_mode": {
    "name": "ipython",
    "version": 3
   },
   "file_extension": ".py",
   "mimetype": "text/x-python",
   "name": "python",
   "nbconvert_exporter": "python",
   "pygments_lexer": "ipython3",
   "version": "3.7.2"
  }
 },
 "nbformat": 4,
 "nbformat_minor": 2
}
